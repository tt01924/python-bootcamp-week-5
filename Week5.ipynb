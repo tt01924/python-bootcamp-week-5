{
 "cells": [
  {
   "cell_type": "markdown",
   "id": "be78ed70-494d-456e-9719-d618eed19597",
   "metadata": {},
   "source": [
    "# Creating & calling functions"
   ]
  },
  {
   "cell_type": "code",
   "execution_count": 4,
   "id": "9f854fec-9832-4066-91a3-794b4a7afe53",
   "metadata": {},
   "outputs": [
    {
     "name": "stdout",
     "output_type": "stream",
     "text": [
      "Name: John Smith\n",
      "Age: 45\n",
      "Name: John Smith\n",
      "Age: 45\n"
     ]
    }
   ],
   "source": [
    "# writing my first function\n",
    "def printInfo(): #defines what the function does when called\n",
    "    print(\"Name: John Smith\")\n",
    "    print(\"Age: 45\")\n",
    "printInfo() #calls the function to run\n",
    "printInfo() #calls the function again"
   ]
  },
  {
   "cell_type": "code",
   "execution_count": 10,
   "id": "43c8c7e3-a296-4252-8057-a4667388e51e",
   "metadata": {},
   "outputs": [
    {
     "name": "stdout",
     "output_type": "stream",
     "text": [
      "15\n"
     ]
    }
   ],
   "source": [
    "# performing a calculation in a function\n",
    "def calc():\n",
    "    x, y = 5, 10\n",
    "    print(x + y)\n",
    "calc() #will run the block of code within calc and output 15"
   ]
  },
  {
   "cell_type": "code",
   "execution_count": 12,
   "id": "dab4ed71-7eae-469b-9620-7bffd396d6a1",
   "metadata": {},
   "outputs": [
    {
     "name": "stdout",
     "output_type": "stream",
     "text": [
      "Name: Todd Taylor\n"
     ]
    }
   ],
   "source": [
    "def myName():\n",
    "    print(\"Name: Todd Taylor\")\n",
    "myName()"
   ]
  },
  {
   "cell_type": "markdown",
   "id": "03d892f1-d59e-4fca-b62a-8da692fdfae5",
   "metadata": {},
   "source": [
    "## Parameters"
   ]
  },
  {
   "cell_type": "code",
   "execution_count": 19,
   "id": "925a33d5-ff16-4a58-9c3a-b4c66c8e276e",
   "metadata": {},
   "outputs": [
    {
     "name": "stdout",
     "output_type": "stream",
     "text": [
      "Your name is: Todd\n",
      "Your name is: Amanda\n"
     ]
    }
   ],
   "source": [
    "# passing a single parameter into a function\n",
    "def printName(full_name):\n",
    "    print('Your name is: {}'.format(full_name))\n",
    "printName('Todd')\n",
    "printName('Amanda')"
   ]
  },
  {
   "cell_type": "code",
   "execution_count": 23,
   "id": "5bbb7c64-3df3-48ed-8024-32aecbe1caa9",
   "metadata": {},
   "outputs": [
    {
     "name": "stdout",
     "output_type": "stream",
     "text": [
      "5 + 8 = 13\n",
      "3.5 + 5.5 = 9.0\n"
     ]
    }
   ],
   "source": [
    "# passing multiple parameters into a function\n",
    "def addNums(x, y):\n",
    "    result = x + y\n",
    "    print('{} + {} = {}'.format(x, y, result))\n",
    "addNums(5, 8)\n",
    "addNums(3.5, 5.5)"
   ]
  },
  {
   "cell_type": "code",
   "execution_count": 25,
   "id": "4952fdf5-d61c-40ac-b775-e39e78cafb1e",
   "metadata": {},
   "outputs": [
    {
     "name": "stdout",
     "output_type": "stream",
     "text": [
      "4\n",
      "16\n",
      "25\n",
      "100\n",
      "1\n",
      "9\n",
      "36\n"
     ]
    }
   ],
   "source": [
    "# using a function to square all information\n",
    "numbers1 = [2, 4, 5, 10]\n",
    "numbers2 = [1, 3, 6]\n",
    "def squares(nums):\n",
    "    for num in nums:\n",
    "        print(num**2)\n",
    "squares(numbers1)\n",
    "squares(numbers2)"
   ]
  },
  {
   "cell_type": "code",
   "execution_count": 31,
   "id": "e1c6a1a5-4c34-454c-941f-999da2f43c01",
   "metadata": {},
   "outputs": [
    {
     "name": "stdout",
     "output_type": "stream",
     "text": [
      "Your name is: John Smith\n",
      "Your name is: John Smith Paul\n"
     ]
    }
   ],
   "source": [
    "# setting default parameter values and making them optional\n",
    "def full_name(first, last, middle =''):\n",
    "    if middle:\n",
    "        print('{}{}{}'.format(first, middle, last))\n",
    "    else:\n",
    "        print('{}{}'.format(first, last))\n",
    "printName('John Smith')\n",
    "printName('John Smith Paul')"
   ]
  },
  {
   "cell_type": "code",
   "execution_count": 33,
   "id": "69da1856-42fd-40e0-923f-5a4084d46c95",
   "metadata": {},
   "outputs": [
    {
     "name": "stdout",
     "output_type": "stream",
     "text": [
      "2.5\n",
      "5\n"
     ]
    }
   ],
   "source": [
    "# explicitly assigning values to parameters by referencing the name\n",
    "def addNums(num1, num2):\n",
    "    print(num2)\n",
    "    print(num1)\n",
    "addNums(5, num2=2.5)"
   ]
  },
  {
   "cell_type": "code",
   "execution_count": 39,
   "id": "64d91ab0-cc6c-4269-ac87-b816d421e0e3",
   "metadata": {},
   "outputs": [
    {
     "name": "stdout",
     "output_type": "stream",
     "text": [
      "<class 'tuple'>\n",
      "5\n",
      "True\n",
      "Jess\n"
     ]
    }
   ],
   "source": [
    "# using args parameter to take in a tuple of arbitrary values\n",
    "def outputData(name, *args):\n",
    "    print(type(args))\n",
    "    for arg in args:\n",
    "        print(arg)\n",
    "outputData('John Smith', 5, True, 'Jess')"
   ]
  },
  {
   "cell_type": "code",
   "execution_count": 43,
   "id": "9a448f09-ce4a-4cc4-b02f-78d283950897",
   "metadata": {},
   "outputs": [
    {
     "name": "stdout",
     "output_type": "stream",
     "text": [
      "<class 'dict'>\n",
      "John Smith\n",
      "5\n"
     ]
    }
   ],
   "source": [
    "# using kwargs parameter to take in a dictionary of arbitrary values\n",
    "def outputData(**kwargs):\n",
    "    print(type(kwargs))\n",
    "    print(kwargs['name'])\n",
    "    print(kwargs['num'])\n",
    "outputData(name = 'John Smith', num = 5, b=True)"
   ]
  }
 ],
 "metadata": {
  "kernelspec": {
   "display_name": "Python 3 (ipykernel)",
   "language": "python",
   "name": "python3"
  },
  "language_info": {
   "codemirror_mode": {
    "name": "ipython",
    "version": 3
   },
   "file_extension": ".py",
   "mimetype": "text/x-python",
   "name": "python",
   "nbconvert_exporter": "python",
   "pygments_lexer": "ipython3",
   "version": "3.11.7"
  }
 },
 "nbformat": 4,
 "nbformat_minor": 5
}
