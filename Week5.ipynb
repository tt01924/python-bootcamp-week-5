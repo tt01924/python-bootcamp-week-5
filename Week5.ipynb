{
 "cells": [
  {
   "cell_type": "markdown",
   "id": "be78ed70-494d-456e-9719-d618eed19597",
   "metadata": {},
   "source": [
    "# Creating & calling functions"
   ]
  },
  {
   "cell_type": "code",
   "execution_count": 4,
   "id": "9f854fec-9832-4066-91a3-794b4a7afe53",
   "metadata": {},
   "outputs": [
    {
     "name": "stdout",
     "output_type": "stream",
     "text": [
      "Name: John Smith\n",
      "Age: 45\n",
      "Name: John Smith\n",
      "Age: 45\n"
     ]
    }
   ],
   "source": [
    "# writing my first function\n",
    "def printInfo(): #defines what the function does when called\n",
    "    print(\"Name: John Smith\")\n",
    "    print(\"Age: 45\")\n",
    "printInfo() #calls the function to run\n",
    "printInfo() #calls the function again"
   ]
  },
  {
   "cell_type": "code",
   "execution_count": 10,
   "id": "43c8c7e3-a296-4252-8057-a4667388e51e",
   "metadata": {},
   "outputs": [
    {
     "name": "stdout",
     "output_type": "stream",
     "text": [
      "15\n"
     ]
    }
   ],
   "source": [
    "# performing a calculation in a function\n",
    "def calc():\n",
    "    x, y = 5, 10\n",
    "    print(x + y)\n",
    "calc() #will run the block of code within calc and output 15"
   ]
  },
  {
   "cell_type": "code",
   "execution_count": 12,
   "id": "dab4ed71-7eae-469b-9620-7bffd396d6a1",
   "metadata": {},
   "outputs": [
    {
     "name": "stdout",
     "output_type": "stream",
     "text": [
      "Name: Todd Taylor\n"
     ]
    }
   ],
   "source": [
    "def myName():\n",
    "    print(\"Name: Todd Taylor\")\n",
    "myName()"
   ]
  },
  {
   "cell_type": "markdown",
   "id": "03d892f1-d59e-4fca-b62a-8da692fdfae5",
   "metadata": {},
   "source": [
    "## Parameters"
   ]
  },
  {
   "cell_type": "code",
   "execution_count": 19,
   "id": "925a33d5-ff16-4a58-9c3a-b4c66c8e276e",
   "metadata": {},
   "outputs": [
    {
     "name": "stdout",
     "output_type": "stream",
     "text": [
      "Your name is: Todd\n",
      "Your name is: Amanda\n"
     ]
    }
   ],
   "source": [
    "# passing a single parameter into a function\n",
    "def printName(full_name):\n",
    "    print('Your name is: {}'.format(full_name))\n",
    "printName('Todd')\n",
    "printName('Amanda')"
   ]
  },
  {
   "cell_type": "code",
   "execution_count": 23,
   "id": "5bbb7c64-3df3-48ed-8024-32aecbe1caa9",
   "metadata": {},
   "outputs": [
    {
     "name": "stdout",
     "output_type": "stream",
     "text": [
      "5 + 8 = 13\n",
      "3.5 + 5.5 = 9.0\n"
     ]
    }
   ],
   "source": [
    "# passing multiple parameters into a function\n",
    "def addNums(x, y):\n",
    "    result = x + y\n",
    "    print('{} + {} = {}'.format(x, y, result))\n",
    "addNums(5, 8)\n",
    "addNums(3.5, 5.5)"
   ]
  },
  {
   "cell_type": "code",
   "execution_count": 25,
   "id": "4952fdf5-d61c-40ac-b775-e39e78cafb1e",
   "metadata": {},
   "outputs": [
    {
     "name": "stdout",
     "output_type": "stream",
     "text": [
      "4\n",
      "16\n",
      "25\n",
      "100\n",
      "1\n",
      "9\n",
      "36\n"
     ]
    }
   ],
   "source": [
    "# using a function to square all information\n",
    "numbers1 = [2, 4, 5, 10]\n",
    "numbers2 = [1, 3, 6]\n",
    "def squares(nums):\n",
    "    for num in nums:\n",
    "        print(num**2)\n",
    "squares(numbers1)\n",
    "squares(numbers2)"
   ]
  },
  {
   "cell_type": "code",
   "execution_count": 31,
   "id": "e1c6a1a5-4c34-454c-941f-999da2f43c01",
   "metadata": {},
   "outputs": [
    {
     "name": "stdout",
     "output_type": "stream",
     "text": [
      "Your name is: John Smith\n",
      "Your name is: John Smith Paul\n"
     ]
    }
   ],
   "source": [
    "# setting default parameter values and making them optional\n",
    "def full_name(first, last, middle =''):\n",
    "    if middle:\n",
    "        print('{}{}{}'.format(first, middle, last))\n",
    "    else:\n",
    "        print('{}{}'.format(first, last))\n",
    "printName('John Smith')\n",
    "printName('John Smith Paul')"
   ]
  },
  {
   "cell_type": "code",
   "execution_count": 33,
   "id": "69da1856-42fd-40e0-923f-5a4084d46c95",
   "metadata": {},
   "outputs": [
    {
     "name": "stdout",
     "output_type": "stream",
     "text": [
      "2.5\n",
      "5\n"
     ]
    }
   ],
   "source": [
    "# explicitly assigning values to parameters by referencing the name\n",
    "def addNums(num1, num2):\n",
    "    print(num2)\n",
    "    print(num1)\n",
    "addNums(5, num2=2.5)"
   ]
  },
  {
   "cell_type": "code",
   "execution_count": 39,
   "id": "64d91ab0-cc6c-4269-ac87-b816d421e0e3",
   "metadata": {},
   "outputs": [
    {
     "name": "stdout",
     "output_type": "stream",
     "text": [
      "<class 'tuple'>\n",
      "5\n",
      "True\n",
      "Jess\n"
     ]
    }
   ],
   "source": [
    "# using args parameter to take in a tuple of arbitrary values\n",
    "def outputData(name, *args):\n",
    "    print(type(args))\n",
    "    for arg in args:\n",
    "        print(arg)\n",
    "outputData('John Smith', 5, True, 'Jess')"
   ]
  },
  {
   "cell_type": "code",
   "execution_count": 43,
   "id": "9a448f09-ce4a-4cc4-b02f-78d283950897",
   "metadata": {},
   "outputs": [
    {
     "name": "stdout",
     "output_type": "stream",
     "text": [
      "<class 'dict'>\n",
      "John Smith\n",
      "5\n"
     ]
    }
   ],
   "source": [
    "# using kwargs parameter to take in a dictionary of arbitrary values\n",
    "def outputData(**kwargs):\n",
    "    print(type(kwargs))\n",
    "    print(kwargs['name'])\n",
    "    print(kwargs['num'])\n",
    "outputData(name = 'John Smith', num = 5, b=True)"
   ]
  },
  {
   "cell_type": "markdown",
   "id": "2aa7471f-d8ba-4b30-8ab2-6e4729878f7e",
   "metadata": {},
   "source": [
    "## Return statement"
   ]
  },
  {
   "cell_type": "code",
   "execution_count": 3,
   "id": "74b54d4c-2b93-45e0-91f9-7dd7e5b120ea",
   "metadata": {},
   "outputs": [
    {
     "name": "stdout",
     "output_type": "stream",
     "text": [
      "10.0\n",
      "20\n"
     ]
    }
   ],
   "source": [
    "#using return keyword to return the sum of two numbers\n",
    "def addNums(num1, num2):\n",
    "    return num1 + num2\n",
    "num = addNums(5.5, 4.5) #saves returned value into num\n",
    "print(num)\n",
    "print(addNums(10, 10)) #doesn't save returned value"
   ]
  },
  {
   "cell_type": "code",
   "execution_count": 5,
   "id": "6f948a41-8ead-461a-a787-40a1ab18b9dd",
   "metadata": {},
   "outputs": [
    {
     "name": "stdout",
     "output_type": "stream",
     "text": [
      "True\n"
     ]
    }
   ],
   "source": [
    "#shorthand syntax using a ternary operator\n",
    "def searchList(aList, el):\n",
    "    return True if el in aList else False\n",
    "result = searchList(['one', 2, 'three'], 2)\n",
    "print(result)"
   ]
  },
  {
   "cell_type": "code",
   "execution_count": 13,
   "id": "75a63f69-455a-4fe2-91e2-642721426b96",
   "metadata": {},
   "outputs": [
    {
     "name": "stdout",
     "output_type": "stream",
     "text": [
      "Todd Taylor\n"
     ]
    }
   ],
   "source": [
    "#Fullname function\n",
    "def fullname(first, second):\n",
    "    return (first + second)\n",
    "name = fullname('Todd ', 'Taylor')\n",
    "print(name)"
   ]
  },
  {
   "cell_type": "code",
   "execution_count": 27,
   "id": "8d4e1f90-233a-49fc-89cd-8265f2afab58",
   "metadata": {},
   "outputs": [
    {
     "name": "stdin",
     "output_type": "stream",
     "text": [
      "Please add your word frog\n"
     ]
    },
    {
     "name": "stdout",
     "output_type": "stream",
     "text": [
      "<bound method Kernel.raw_input of <ipykernel.ipkernel.IPythonKernel object at 0x10c196ad0>>\n"
     ]
    }
   ],
   "source": [
    "def userAdd(input):\n",
    "    input('Please add your word')\n",
    "    return input\n",
    "result = userAdd(input)\n",
    "print(result)\n",
    "\n",
    "    "
   ]
  },
  {
   "cell_type": "markdown",
   "id": "c8642641-1217-482a-93d4-7aa90aedc699",
   "metadata": {},
   "source": [
    "## Scope"
   ]
  },
  {
   "cell_type": "code",
   "execution_count": 31,
   "id": "2fb55fac-09d3-45ed-8113-0b5fed1e26f7",
   "metadata": {},
   "outputs": [
    {
     "ename": "UnboundLocalError",
     "evalue": "cannot access local variable 'number' where it is not associated with a value",
     "output_type": "error",
     "traceback": [
      "\u001b[0;31m---------------------------------------------------------------------------\u001b[0m",
      "\u001b[0;31mUnboundLocalError\u001b[0m                         Traceback (most recent call last)",
      "Cell \u001b[0;32mIn[31], line 5\u001b[0m\n\u001b[1;32m      3\u001b[0m \u001b[38;5;28;01mdef\u001b[39;00m \u001b[38;5;21mscopeTest\u001b[39m():\n\u001b[1;32m      4\u001b[0m     number \u001b[38;5;241m+\u001b[39m\u001b[38;5;241m=\u001b[39m \u001b[38;5;241m1\u001b[39m \u001b[38;5;66;03m#not accessible due to function level scope\u001b[39;00m\n\u001b[0;32m----> 5\u001b[0m scopeTest()\n",
      "Cell \u001b[0;32mIn[31], line 4\u001b[0m, in \u001b[0;36mscopeTest\u001b[0;34m()\u001b[0m\n\u001b[1;32m      3\u001b[0m \u001b[38;5;28;01mdef\u001b[39;00m \u001b[38;5;21mscopeTest\u001b[39m():\n\u001b[0;32m----> 4\u001b[0m     number \u001b[38;5;241m+\u001b[39m\u001b[38;5;241m=\u001b[39m \u001b[38;5;241m1\u001b[39m\n",
      "\u001b[0;31mUnboundLocalError\u001b[0m: cannot access local variable 'number' where it is not associated with a value"
     ]
    }
   ],
   "source": [
    "#where global variables can be accessed\n",
    "number = 5\n",
    "def scopeTest():\n",
    "    number += 1 #not accessible due to function level scope\n",
    "scopeTest()"
   ]
  },
  {
   "cell_type": "code",
   "execution_count": 33,
   "id": "fd065485-f51c-4751-83d0-2789bcefdd34",
   "metadata": {},
   "outputs": [
    {
     "name": "stdout",
     "output_type": "stream",
     "text": [
      "function\n"
     ]
    }
   ],
   "source": [
    "#accessing variables defined in a function\n",
    "def scopeTest():\n",
    "    word = 'function'\n",
    "    return word\n",
    "value = scopeTest()\n",
    "print(value)"
   ]
  },
  {
   "cell_type": "code",
   "execution_count": 35,
   "id": "a0bf08d0-1f4c-4a1a-a158-4b251480e479",
   "metadata": {},
   "outputs": [
    {
     "name": "stdout",
     "output_type": "stream",
     "text": [
      "before altering: ['baseball', 'football', 'hockey', 'basketball']\n",
      "after altering: ['soccer', 'football', 'hockey', 'basketball']\n"
     ]
    }
   ],
   "source": [
    "#changing list item values by index\n",
    "sports = ['baseball', 'football', 'hockey', 'basketball']\n",
    "def change(aList):\n",
    "    aList[0] = 'soccer'\n",
    "print('before altering: {}'.format(sports))\n",
    "change(sports)\n",
    "print('after altering: {}'.format(sports))"
   ]
  },
  {
   "cell_type": "markdown",
   "id": "5ee83069-5b22-453e-8904-51107f24ae87",
   "metadata": {},
   "source": [
    "# **Friday Project:** Creating a shopping cart."
   ]
  },
  {
   "cell_type": "code",
   "execution_count": 44,
   "id": "89189110-467e-4392-8143-90d3c5e65f5f",
   "metadata": {},
   "outputs": [
    {
     "name": "stdout",
     "output_type": "stream",
     "text": [
      "Here is your cart:\n",
      "-Truck\n"
     ]
    }
   ],
   "source": [
    "#import necessary functions\n",
    "from IPython.display import clear_output\n",
    "\n",
    "#global list variable\n",
    "cart = []\n",
    "\n",
    "#create function to add items to cart\n",
    "def addItem(item):\n",
    "    clear_output()\n",
    "    cart.append(item)\n",
    "    print('{} has been added.'.format(item))\n",
    "\n",
    "# create function to remove items from cart\n",
    "def removeItem(item):\n",
    "    clear_output()\n",
    "    try:\n",
    "        cart.remove(item)\n",
    "        print('{} has been removed.'.format(item))\n",
    "    except:\n",
    "        print('Sorry, we could not remove that item.')\n",
    "\n",
    "#create function to show items in cart\n",
    "def showCart():\n",
    "    clear_output()\n",
    "    if cart:\n",
    "        print('Here is your cart:')\n",
    "        for item in cart:\n",
    "            print('-{}'.format(item))\n",
    "    else:\n",
    "        print('Your cart is empty.')\n",
    "\n",
    "#create function to clear items from cart\n",
    "def clearCart():\n",
    "    clear_output()\n",
    "    cart.clear()\n",
    "    print('Your cart is empty.')\n",
    "\n",
    "#create main function that loops until the user quits\n",
    "def main():\n",
    "    done = False\n",
    "    \n",
    "    while not done:\n",
    "        ans = input('quit/add/remove/show/clear:').lower()\n",
    "        \n",
    "        #base case\n",
    "        if ans == 'quit':\n",
    "            print('Thanks for using our program.')\n",
    "            showCart()\n",
    "            done = True\n",
    "        elif ans == 'add':\n",
    "            item = input('What would you like to add?').title()\n",
    "            addItem(item)\n",
    "        elif ans == 'remove':\n",
    "            showCart()\n",
    "            item = input('What would you like to remove?').title()\n",
    "            removeItem(item)\n",
    "        elif ans == 'show':\n",
    "            showCart()\n",
    "        elif ans == 'clear':\n",
    "            clearCart()\n",
    "        else:\n",
    "            print('Sorry, that was not an option.')\n",
    "\n",
    "main() #run the program"
   ]
  }
 ],
 "metadata": {
  "kernelspec": {
   "display_name": "Python 3 (ipykernel)",
   "language": "python",
   "name": "python3"
  },
  "language_info": {
   "codemirror_mode": {
    "name": "ipython",
    "version": 3
   },
   "file_extension": ".py",
   "mimetype": "text/x-python",
   "name": "python",
   "nbconvert_exporter": "python",
   "pygments_lexer": "ipython3",
   "version": "3.11.7"
  }
 },
 "nbformat": 4,
 "nbformat_minor": 5
}
